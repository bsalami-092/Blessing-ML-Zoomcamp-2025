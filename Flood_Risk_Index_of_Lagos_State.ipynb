{
  "nbformat": 4,
  "nbformat_minor": 0,
  "metadata": {
    "colab": {
      "provenance": [],
      "authorship_tag": "ABX9TyPcpezcra0PHg8uoy7RqrRD",
      "include_colab_link": true
    },
    "kernelspec": {
      "name": "python3",
      "display_name": "Python 3"
    },
    "language_info": {
      "name": "python"
    }
  },
  "cells": [
    {
      "cell_type": "markdown",
      "metadata": {
        "id": "view-in-github",
        "colab_type": "text"
      },
      "source": [
        "<a href=\"https://colab.research.google.com/github/bsalami-092/Blessing-ML-Zoomcamp-2025/blob/main/Flood_Risk_Index_of_Lagos_State.ipynb\" target=\"_parent\"><img src=\"https://colab.research.google.com/assets/colab-badge.svg\" alt=\"Open In Colab\"/></a>"
      ]
    },
    {
      "cell_type": "markdown",
      "source": [
        "Building a Flood Risk Data Pipeline for Lagos"
      ],
      "metadata": {
        "id": "dUhQDZ4Pogln"
      }
    },
    {
      "cell_type": "code",
      "source": [
        "!pip install geemap earthengine.api rasterio folium contextily shapely fiona"
      ],
      "metadata": {
        "id": "gv0KX3Vgovg2"
      },
      "execution_count": null,
      "outputs": []
    },
    {
      "cell_type": "code",
      "execution_count": null,
      "metadata": {
        "id": "SP2rMfoCodMT"
      },
      "outputs": [],
      "source": [
        "# Import required libraries\n",
        "import ee\n",
        "import numpy as np\n",
        "import rasterio\n",
        "import folium\n",
        "import contextily as cx\n",
        "import shapely.geometry\n",
        "import fiona\n",
        "import geemap\n",
        "import matplotlib.pyplot as plt"
      ]
    },
    {
      "cell_type": "markdown",
      "source": [
        "Initialize and Authenticate  Google Earth Engine"
      ],
      "metadata": {
        "id": "HakhvGI0qCdk"
      }
    },
    {
      "cell_type": "code",
      "source": [
        "# Authenticate GEE (only needed once per session)\n",
        "ee.Authenticate()\n",
        "\n",
        "# Initialize GEE\n",
        "ee.Initialize(project='geo-coding-475422')"
      ],
      "metadata": {
        "id": "frdw0wQSp1cH"
      },
      "execution_count": null,
      "outputs": []
    },
    {
      "cell_type": "markdown",
      "source": [
        "Define the Area of Interest(Lagos, Nigeria)"
      ],
      "metadata": {
        "id": "NPKq-7ZgqgFn"
      }
    },
    {
      "cell_type": "code",
      "source": [
        "# Define area of interest using minimum and maximum coordinates\n",
        "aoi = ee.Geometry.Rectangle((2.926, 6.358, 3.734, 6.673))  #(minlon, minlat, maxlon, maxlat)\n",
        "\n",
        "\n",
        "# Visualize the area\n",
        "Map = geemap.Map()\n",
        "Map.centerObject(aoi, zoom=10)\n",
        "Map.addLayer(aoi, {}, 'Lagos Boundary')\n",
        "Map"
      ],
      "metadata": {
        "id": "9TBCMRXIqYXu"
      },
      "execution_count": null,
      "outputs": []
    },
    {
      "cell_type": "markdown",
      "source": [
        "Acquire and preprocess spatial data. To do that,  we need four essential datasets from GEE\n",
        "* Digital Elevation Model(DEM) for terrain analysis\n",
        "* Rainfall data to assess precipitation levels\n",
        "* Land Use/Land Cover (LULC) for surfacr classification\n",
        "* Population data to evaluate human exposure to flood s\n",
        "\n",
        "\n",
        "Load Digital Elevation Model (DEM)"
      ],
      "metadata": {
        "id": "DSJohzzMucV2"
      }
    },
    {
      "cell_type": "code",
      "source": [
        "# Load SRTM DEM dataset (30m resolution) to extract elevation and identify low-lying areas prone to flood\n",
        "dem = ee.Image('USGS/SRTMGL1_003').clip(aoi)\n",
        "\n",
        "# Define visualization parameters\n",
        "dem_vis = {\n",
        "    'min': 0,\n",
        "    'max': 100,\n",
        "    'palette': ['red', 'blue', 'yellow', 'green']\n",
        "}\n",
        "\n",
        "# Add DEM layer to map\n",
        "Map.addLayer(dem, dem_vis, 'Digital Elevation Model (DEM)')\n",
        "Map"
      ],
      "metadata": {
        "id": "qXvU3Yv7uDYF"
      },
      "execution_count": null,
      "outputs": []
    },
    {
      "cell_type": "code",
      "source": [
        "# Download DEM as GeoTIFF\n",
        "geemap.ee_export_image(dem, filename='dem_lagos.tif', scale=30, region=aoi, file_per_band=False)"
      ],
      "metadata": {
        "id": "cfO7pG_JxvUF"
      },
      "execution_count": null,
      "outputs": []
    },
    {
      "cell_type": "markdown",
      "source": [
        "Load Rainfall Data (CHIRPS Precipitation)"
      ],
      "metadata": {
        "id": "6E-hWM3DykYv"
      }
    },
    {
      "cell_type": "code",
      "source": [
        "# Load CHIRPS Rainfall dataset(Climate Hazrd Group Infared Precipitation) to assess flood risk due\n",
        "rainfall = ee.ImageCollection('UCSB-CHG/CHIRPS/PENTAD') \\\n",
        ".filterBounds(aoi) \\\n",
        ".filterDate('2020-01-01', '2023-12-31') \\\n",
        ".mean() \\\n",
        ".clip(aoi)\n",
        "\n",
        "# Define visulization parameters\n",
        "rainfall_vis = {\n",
        "    'min': 0,\n",
        "    'max': 100,\n",
        "    'palette': ['white', 'blue']\n",
        "}\n",
        "\n",
        "# Add rainfall layer to map\n",
        "Map.addLayer(rainfall, rainfall_vis, 'Rainfall')\n",
        "Map"
      ],
      "metadata": {
        "id": "6oK0oulTydMV"
      },
      "execution_count": null,
      "outputs": []
    },
    {
      "cell_type": "code",
      "source": [
        "# Download Rainfall Data as GeoTIFF\n",
        "geemap.ee_export_image(rainfall, filename='rainfall_lagos.tif', scale=3000, region=aoi, file_per_band=False)"
      ],
      "metadata": {
        "id": "YQUq1-EBzvsH"
      },
      "execution_count": null,
      "outputs": []
    },
    {
      "cell_type": "markdown",
      "source": [
        "Load Land  Cover Data (ESA WorldCover 2020)"
      ],
      "metadata": {
        "id": "DBf8qZrf0jxC"
      }
    },
    {
      "cell_type": "code",
      "source": [
        "# Load ESA WorldCover 2020 land cover dataset because land cover influences flood behavior. Urban areas reduce infiltration, while wetlands indicate flood\n",
        "lulc = ee.ImageCollection('ESA/WorldCover/v100').select('Map').first().clip(aoi)\n",
        "\n",
        "# Define visulization parameters\n",
        "lulc_vis = {'min': 10, 'max': 100, 'palette': ['red', 'yellow', 'green']}\n",
        "\n",
        "# Add land cover layer to map\n",
        "Map.addLayer(lulc, lulc_vis, 'Land Cover')\n",
        "Map\n"
      ],
      "metadata": {
        "id": "56gaB7Cf0gTP"
      },
      "execution_count": null,
      "outputs": []
    },
    {
      "cell_type": "code",
      "source": [
        "# Download LULC Data as GeoTIFF\n",
        "geemap.ee_export_image(lulc, filename='lulc_lagos.tif', scale=30, region=aoi, file_per_band=False)"
      ],
      "metadata": {
        "id": "R4p-hv731ixe"
      },
      "execution_count": null,
      "outputs": []
    },
    {
      "cell_type": "markdown",
      "source": [
        "Load Population Density Data (WorldPop)"
      ],
      "metadata": {
        "id": "vr5OQGIi2bfF"
      }
    },
    {
      "cell_type": "code",
      "source": [
        "# Load WorldPop population dataset to assess population exosure to floods\n",
        "population = ee.ImageCollection('WorldPop/GP/100m/pop')\\\n",
        ".filterBounds(aoi)\\\n",
        ".filterDate(\"2020-01-01\", \"2020-12-31\")\\\n",
        ".mean()\\\n",
        ".clip(aoi)\n",
        "\n",
        "# Define visualization parameters\n",
        "population_vis = {\n",
        "    'min': 0,\n",
        "    'max': 1000,\n",
        "    'palette': ['white', 'red']\n",
        "}\n",
        "\n",
        "# Add population layer to map\n",
        "Map.addLayer(population, population_vis, 'Population Density')\n",
        "Map"
      ],
      "metadata": {
        "id": "t1CVXQMK2W74"
      },
      "execution_count": null,
      "outputs": []
    },
    {
      "cell_type": "code",
      "source": [
        "# Download Population Data as GeoTIFF\n",
        "geemap.ee_export_image(population, filename='population_lagos.tif', scale=100, region=aoi, file_per_band=False)"
      ],
      "metadata": {
        "id": "OM_UcAXX3he3"
      },
      "execution_count": null,
      "outputs": []
    },
    {
      "cell_type": "markdown",
      "source": [
        "Perform Flood Risk Analysis\n",
        "\n",
        "We will compute the Flood Risk Index(FRI) based on:\n",
        "* Low-lying elevation (DEM)\n",
        "* High precipitation levels (Rainfall)\n",
        "* High urban development and wetlands (LULC)\n",
        "* High population exposure (WorldPop)"
      ],
      "metadata": {
        "id": "q6HNLq5w3xOu"
      }
    },
    {
      "cell_type": "markdown",
      "source": [
        "# Normalize Data for Analysis\n"
      ],
      "metadata": {
        "id": "RiBN0mvc49r8"
      }
    },
    {
      "cell_type": "code",
      "source": [
        "# convert to numpy arrays for calculations\n",
        "dem_array = geemap.ee_to_numpy(dem, scale=150)  # Use consistent scale\n",
        "rainfall_array = geemap.ee_to_numpy(rainfall, scale=150)\n",
        "lulc_array = geemap.ee_to_numpy(lulc, scale=150)\n",
        "population_array = geemap.ee_to_numpy(population, scale=150)\n",
        "\n",
        "#  get the minimum shape among all arrays\n",
        "min_shape = min(dem_array.shape, rainfall_array.shape, lulc_array.shape, population_array.shape)\n",
        "\n",
        "# resize all arrays to the minimum shape\n",
        "dem_array = dem_array[:min_shape[0], :min_shape[1], :min_shape[2]]\n",
        "rainfall_array = rainfall_array[:min_shape[0], :min_shape[1], :min_shape[2]]\n",
        "lulc_array = lulc_array[:min_shape[0], :min_shape[1], :min_shape[2]]\n",
        "population_array = population_array[:min_shape[0], :min_shape[1], :min_shape[2]]\n",
        "\n",
        "\n",
        "# normalize the data to 0-1 range\n",
        "norm_dem = (dem_array - dem_array.min()) / (dem_array.max() - dem_array.min())\n",
        "norm_rainfall = (rainfall_array - rainfall_array.min()) / (rainfall_array.max() - rainfall_array.min())\n",
        "norm_lulc = (lulc_array - lulc_array.min()) / (lulc_array.max() - lulc_array.min())\n",
        "norm_population = (population_array - population_array.min()) / (population_array.max() - population_array.min())\n",
        "\n",
        "\n",
        "# compute Flood Risk Index(FRI)\n",
        "fri = (1 - norm_dem) * 0.4 + norm_rainfall * 0.3 + norm_lulc * 0.2 + norm_population * 0.1\n"
      ],
      "metadata": {
        "id": "wo_OeY4w4_gF"
      },
      "execution_count": null,
      "outputs": []
    },
    {
      "cell_type": "code",
      "source": [
        "# Visualize Flood Risk\n",
        "plt.figure(figsize=(10,6))\n",
        "plt.imshow(fri, cmap='coolwarm')\n",
        "plt.colorbar(label= 'Flood Risk Index (FRI)')\n",
        "plt.title('Flood Risk Map of Lagos')\n",
        "plt.show()"
      ],
      "metadata": {
        "id": "QZybCZcw7p5s"
      },
      "execution_count": null,
      "outputs": []
    },
    {
      "cell_type": "markdown",
      "source": [
        "# Save and Export the Flood Risk Data"
      ],
      "metadata": {
        "id": "qsq9y_NQ83Ve"
      }
    },
    {
      "cell_type": "code",
      "source": [
        "# Reshape the fri array to have 3 dimensions if it has only 2\n",
        "if fri.ndim == 2:\n",
        "  fri = fri[:, :, np.newaxis] # Add a third dimension\n",
        "\n",
        "# if fri still doesn't have 3 or 4 dimension after reshaping.\n",
        "# It might contains multiple bands, in this case,  select  the firt band (or the relevant one)\n",
        "if fri.ndim not in (3, 4):\n",
        "  fri = fri[:, :, 0] # select the first band\n",
        "  fri = fri[:, :, np.newaxis] # Add a third dimension\n",
        "\n",
        "# Convert the single-channel fri array to a 3-channel RGB array by repeating the values across the 3 color channels.\n",
        "# This assumes that the fri  values represent a grayscale image.\n",
        "fri_rgb = np.repeat(fri, 3, axis=2)\n",
        "\n",
        "# Now save the reshaped fri array as image\n",
        "plt.imsave('flood_risk_lagos.png', fri_rgb, cmap='coolwarm')"
      ],
      "metadata": {
        "id": "fWVpa7Tx8Ty_"
      },
      "execution_count": null,
      "outputs": []
    },
    {
      "cell_type": "code",
      "source": [
        "# Export as GeoTIFF\n",
        "# Reshape fri to have expected dimensions: (height, width) for a single band\n",
        "fri = fri.squeeze()\n",
        "\n",
        "with rasterio.open('flood_risk_lagos.tif', 'w',\n",
        "                    driver='GTiff',\n",
        "                    height=fri.shape[0],\n",
        "                    width=fri.shape[1],\n",
        "                    count=1,\n",
        "                    dtype=str(fri.dtype)\n",
        "                    )as dst:\n",
        "                    dst.write(fri, 1) # Write the reshaped array to the first band\n",
        "\n"
      ],
      "metadata": {
        "id": "gi-Gt9e6_Mui"
      },
      "execution_count": null,
      "outputs": []
    }
  ]
}