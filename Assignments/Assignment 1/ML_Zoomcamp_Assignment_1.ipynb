{
 "cells": [
  {
   "cell_type": "code",
   "execution_count": null,
   "id": "ec93ad58-e89d-4da8-9ba3-373a69f073d7",
   "metadata": {},
   "outputs": [],
   "source": [
    "import pandas as pd\n",
    "import numpy as np"
   ]
  },
  {
   "cell_type": "code",
   "execution_count": null,
   "id": "2c02da51-5688-4a7a-a3e1-16a26c789cfd",
   "metadata": {},
   "outputs": [],
   "source": [
    "pd.__version__"
   ]
  },
  {
   "cell_type": "code",
   "execution_count": null,
   "id": "c07925e7-61ff-4edb-be2b-509228d12735",
   "metadata": {},
   "outputs": [],
   "source": [
    "data = pd.read_csv(\"car_fuel_efficiency.csv\")\n",
    "\n",
    "data"
   ]
  },
  {
   "cell_type": "code",
   "execution_count": null,
   "id": "4b98ac0c-58d6-4644-ba6b-f3d49bba8617",
   "metadata": {},
   "outputs": [],
   "source": [
    "data.info()"
   ]
  },
  {
   "cell_type": "code",
   "execution_count": null,
   "id": "d1a16b73-34f9-49b8-a8ff-a3ffb823e70f",
   "metadata": {},
   "outputs": [],
   "source": [
    "data.fuel_type.unique()"
   ]
  },
  {
   "cell_type": "code",
   "execution_count": null,
   "id": "ed860b08-e74b-4dd5-94f8-11bebb2a3051",
   "metadata": {},
   "outputs": [],
   "source": [
    "data.isna().sum()"
   ]
  },
  {
   "cell_type": "code",
   "execution_count": null,
   "id": "1d67e181-e3ba-409b-a129-93d5a44ef21c",
   "metadata": {},
   "outputs": [],
   "source": [
    "data[data['origin'] == 'Asia'].groupby('fuel_efficiency_mpg').max()"
   ]
  },
  {
   "cell_type": "code",
   "execution_count": null,
   "id": "d98ee6bf-cefa-4589-95c7-b8fa0beb7f0a",
   "metadata": {},
   "outputs": [],
   "source": [
    "data.horsepower.median()"
   ]
  },
  {
   "cell_type": "code",
   "execution_count": null,
   "id": "7c62dcb1-8ca5-4e9c-8136-70c29b115f67",
   "metadata": {},
   "outputs": [],
   "source": [
    "data.horsepower.value_counts()"
   ]
  },
  {
   "cell_type": "code",
   "execution_count": null,
   "id": "6a8897d7-72b0-4e88-bb2d-f30aa130af81",
   "metadata": {},
   "outputs": [],
   "source": [
    "data.horsepower.mode()"
   ]
  },
  {
   "cell_type": "code",
   "execution_count": null,
   "id": "085d47fe-1f94-4132-b952-7eaac1ea5d12",
   "metadata": {},
   "outputs": [],
   "source": [
    "data['horsepower'] = data['horsepower'].fillna(152.0)"
   ]
  },
  {
   "cell_type": "code",
   "execution_count": null,
   "id": "c5fde26a-bec9-4eb6-a381-9ba3f61eff40",
   "metadata": {},
   "outputs": [],
   "source": [
    "data.isna().sum()"
   ]
  },
  {
   "cell_type": "code",
   "execution_count": null,
   "id": "019a4692-b4cb-4397-8b9a-85e974613ed0",
   "metadata": {},
   "outputs": [],
   "source": [
    "data.horsepower.median()"
   ]
  },
  {
   "cell_type": "code",
   "execution_count": null,
   "id": "2a5fa737-5956-4161-ac77-d72194a53317",
   "metadata": {},
   "outputs": [],
   "source": [
    "X = data.loc[data['origin'] == 'Asia', ['vehicle_weight', 'model_year']].head(7).values\n",
    "\n",
    "X"
   ]
  },
  {
   "cell_type": "code",
   "execution_count": null,
   "id": "358640bd-47fa-4b74-ace6-bbce4988775b",
   "metadata": {},
   "outputs": [],
   "source": [
    "Y = X.T\n",
    "\n",
    "Y"
   ]
  },
  {
   "cell_type": "code",
   "execution_count": null,
   "id": "8c7d51e8-7b6c-43ee-821d-a2cf7e3922f4",
   "metadata": {},
   "outputs": [],
   "source": [
    "XTX = Y.dot(X)\n",
    "\n",
    "XTX"
   ]
  },
  {
   "cell_type": "code",
   "execution_count": null,
   "id": "c566c57e-46bc-4535-a9e3-3aa3ee5e99ac",
   "metadata": {},
   "outputs": [],
   "source": [
    "XTX_inv = np.linalg.inv(XTX)\n",
    "\n",
    "XTX_inv"
   ]
  },
  {
   "cell_type": "code",
   "execution_count": null,
   "id": "fc877280-a49a-4dd8-8eb0-5df38409f2c4",
   "metadata": {},
   "outputs": [],
   "source": [
    "y = np.array([1100, 1300, 800, 900, 1000, 1100, 1200])\n",
    "\n",
    "y"
   ]
  },
  {
   "cell_type": "code",
   "execution_count": null,
   "id": "0ecdcac5-5f82-4e08-b210-f6e4117036d2",
   "metadata": {},
   "outputs": [],
   "source": [
    "C = XTX_inv.dot(Y)\n",
    "\n",
    "C"
   ]
  },
  {
   "cell_type": "code",
   "execution_count": null,
   "id": "d40ecca3-cce4-4371-8067-d6189a7bba4e",
   "metadata": {},
   "outputs": [],
   "source": [
    "w = C.dot(y)\n",
    "\n",
    "w"
   ]
  },
  {
   "cell_type": "code",
   "execution_count": null,
   "id": "097a2447-e3e6-4f54-981a-d0500879e780",
   "metadata": {},
   "outputs": [],
   "source": [
    "w.sum()"
   ]
  }
 ],
 "metadata": {
  "kernelspec": {
   "display_name": "Python 3 (ipykernel)",
   "language": "python",
   "name": "python3"
  },
  "language_info": {
   "codemirror_mode": {
    "name": "ipython",
    "version": 3
   },
   "file_extension": ".py",
   "mimetype": "text/x-python",
   "name": "python",
   "nbconvert_exporter": "python",
   "pygments_lexer": "ipython3",
   "version": "3.11.7"
  }
 },
 "nbformat": 4,
 "nbformat_minor": 5
}
